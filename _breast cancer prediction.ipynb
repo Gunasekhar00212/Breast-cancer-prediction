{
 "cells": [
  {
   "cell_type": "markdown",
   "id": "df0e9b31-8787-416c-85c0-16db7caebd4a",
   "metadata": {},
   "source": [
    "# BREAST CANCER PREDICTION"
   ]
  },
  {
   "cell_type": "code",
   "execution_count": 1,
   "id": "46f69458-d9f0-4f94-a5c4-91b0c1910c9a",
   "metadata": {},
   "outputs": [],
   "source": [
    "import pandas as pd\n",
    "import numpy as np\n",
    "from sklearn.preprocessing import StandardScaler,LabelEncoder\n",
    "from sklearn.model_selection import train_test_split\n",
    "from sklearn.metrics import accuracy_score\n",
    "from sklearn.linear_model import LogisticRegression\n",
    "from sklearn.neighbors import KNeighborsClassifier\n",
    "from sklearn.tree import DecisionTreeClassifier\n",
    "from sklearn.ensemble import RandomForestClassifier\n",
    "from sklearn.svm import SVC\n",
    "from sklearn.naive_bayes import GaussianNB\n",
    "from sklearn.metrics import accuracy_score\n",
    "import matplotlib.pyplot as plt\n",
    "import seaborn as sns\n"
   ]
  },
  {
   "cell_type": "code",
   "execution_count": 2,
   "id": "836cc16e-fce1-4de1-b0d5-26a5d2498005",
   "metadata": {},
   "outputs": [
    {
     "data": {
      "text/html": [
       "<div>\n",
       "<style scoped>\n",
       "    .dataframe tbody tr th:only-of-type {\n",
       "        vertical-align: middle;\n",
       "    }\n",
       "\n",
       "    .dataframe tbody tr th {\n",
       "        vertical-align: top;\n",
       "    }\n",
       "\n",
       "    .dataframe thead th {\n",
       "        text-align: right;\n",
       "    }\n",
       "</style>\n",
       "<table border=\"1\" class=\"dataframe\">\n",
       "  <thead>\n",
       "    <tr style=\"text-align: right;\">\n",
       "      <th></th>\n",
       "      <th>mean radius</th>\n",
       "      <th>mean texture</th>\n",
       "      <th>mean perimeter</th>\n",
       "      <th>mean area</th>\n",
       "      <th>mean smoothness</th>\n",
       "      <th>mean compactness</th>\n",
       "      <th>mean concavity</th>\n",
       "      <th>mean concave points</th>\n",
       "      <th>mean symmetry</th>\n",
       "      <th>mean fractal dimension</th>\n",
       "      <th>...</th>\n",
       "      <th>worst texture</th>\n",
       "      <th>worst perimeter</th>\n",
       "      <th>worst area</th>\n",
       "      <th>worst smoothness</th>\n",
       "      <th>worst compactness</th>\n",
       "      <th>worst concavity</th>\n",
       "      <th>worst concave points</th>\n",
       "      <th>worst symmetry</th>\n",
       "      <th>worst fractal dimension</th>\n",
       "      <th>target</th>\n",
       "    </tr>\n",
       "  </thead>\n",
       "  <tbody>\n",
       "    <tr>\n",
       "      <th>0</th>\n",
       "      <td>17.99</td>\n",
       "      <td>10.38</td>\n",
       "      <td>122.80</td>\n",
       "      <td>1001.0</td>\n",
       "      <td>0.11840</td>\n",
       "      <td>0.27760</td>\n",
       "      <td>0.3001</td>\n",
       "      <td>0.14710</td>\n",
       "      <td>0.2419</td>\n",
       "      <td>0.07871</td>\n",
       "      <td>...</td>\n",
       "      <td>17.33</td>\n",
       "      <td>184.60</td>\n",
       "      <td>2019.0</td>\n",
       "      <td>0.1622</td>\n",
       "      <td>0.6656</td>\n",
       "      <td>0.7119</td>\n",
       "      <td>0.2654</td>\n",
       "      <td>0.4601</td>\n",
       "      <td>0.11890</td>\n",
       "      <td>0</td>\n",
       "    </tr>\n",
       "    <tr>\n",
       "      <th>1</th>\n",
       "      <td>20.57</td>\n",
       "      <td>17.77</td>\n",
       "      <td>132.90</td>\n",
       "      <td>1326.0</td>\n",
       "      <td>0.08474</td>\n",
       "      <td>0.07864</td>\n",
       "      <td>0.0869</td>\n",
       "      <td>0.07017</td>\n",
       "      <td>0.1812</td>\n",
       "      <td>0.05667</td>\n",
       "      <td>...</td>\n",
       "      <td>23.41</td>\n",
       "      <td>158.80</td>\n",
       "      <td>1956.0</td>\n",
       "      <td>0.1238</td>\n",
       "      <td>0.1866</td>\n",
       "      <td>0.2416</td>\n",
       "      <td>0.1860</td>\n",
       "      <td>0.2750</td>\n",
       "      <td>0.08902</td>\n",
       "      <td>0</td>\n",
       "    </tr>\n",
       "    <tr>\n",
       "      <th>2</th>\n",
       "      <td>19.69</td>\n",
       "      <td>21.25</td>\n",
       "      <td>130.00</td>\n",
       "      <td>1203.0</td>\n",
       "      <td>0.10960</td>\n",
       "      <td>0.15990</td>\n",
       "      <td>0.1974</td>\n",
       "      <td>0.12790</td>\n",
       "      <td>0.2069</td>\n",
       "      <td>0.05999</td>\n",
       "      <td>...</td>\n",
       "      <td>25.53</td>\n",
       "      <td>152.50</td>\n",
       "      <td>1709.0</td>\n",
       "      <td>0.1444</td>\n",
       "      <td>0.4245</td>\n",
       "      <td>0.4504</td>\n",
       "      <td>0.2430</td>\n",
       "      <td>0.3613</td>\n",
       "      <td>0.08758</td>\n",
       "      <td>0</td>\n",
       "    </tr>\n",
       "    <tr>\n",
       "      <th>3</th>\n",
       "      <td>11.42</td>\n",
       "      <td>20.38</td>\n",
       "      <td>77.58</td>\n",
       "      <td>386.1</td>\n",
       "      <td>0.14250</td>\n",
       "      <td>0.28390</td>\n",
       "      <td>0.2414</td>\n",
       "      <td>0.10520</td>\n",
       "      <td>0.2597</td>\n",
       "      <td>0.09744</td>\n",
       "      <td>...</td>\n",
       "      <td>26.50</td>\n",
       "      <td>98.87</td>\n",
       "      <td>567.7</td>\n",
       "      <td>0.2098</td>\n",
       "      <td>0.8663</td>\n",
       "      <td>0.6869</td>\n",
       "      <td>0.2575</td>\n",
       "      <td>0.6638</td>\n",
       "      <td>0.17300</td>\n",
       "      <td>0</td>\n",
       "    </tr>\n",
       "    <tr>\n",
       "      <th>4</th>\n",
       "      <td>20.29</td>\n",
       "      <td>14.34</td>\n",
       "      <td>135.10</td>\n",
       "      <td>1297.0</td>\n",
       "      <td>0.10030</td>\n",
       "      <td>0.13280</td>\n",
       "      <td>0.1980</td>\n",
       "      <td>0.10430</td>\n",
       "      <td>0.1809</td>\n",
       "      <td>0.05883</td>\n",
       "      <td>...</td>\n",
       "      <td>16.67</td>\n",
       "      <td>152.20</td>\n",
       "      <td>1575.0</td>\n",
       "      <td>0.1374</td>\n",
       "      <td>0.2050</td>\n",
       "      <td>0.4000</td>\n",
       "      <td>0.1625</td>\n",
       "      <td>0.2364</td>\n",
       "      <td>0.07678</td>\n",
       "      <td>0</td>\n",
       "    </tr>\n",
       "  </tbody>\n",
       "</table>\n",
       "<p>5 rows × 31 columns</p>\n",
       "</div>"
      ],
      "text/plain": [
       "   mean radius  mean texture  mean perimeter  mean area  mean smoothness  \\\n",
       "0        17.99         10.38          122.80     1001.0          0.11840   \n",
       "1        20.57         17.77          132.90     1326.0          0.08474   \n",
       "2        19.69         21.25          130.00     1203.0          0.10960   \n",
       "3        11.42         20.38           77.58      386.1          0.14250   \n",
       "4        20.29         14.34          135.10     1297.0          0.10030   \n",
       "\n",
       "   mean compactness  mean concavity  mean concave points  mean symmetry  \\\n",
       "0           0.27760          0.3001              0.14710         0.2419   \n",
       "1           0.07864          0.0869              0.07017         0.1812   \n",
       "2           0.15990          0.1974              0.12790         0.2069   \n",
       "3           0.28390          0.2414              0.10520         0.2597   \n",
       "4           0.13280          0.1980              0.10430         0.1809   \n",
       "\n",
       "   mean fractal dimension  ...  worst texture  worst perimeter  worst area  \\\n",
       "0                 0.07871  ...          17.33           184.60      2019.0   \n",
       "1                 0.05667  ...          23.41           158.80      1956.0   \n",
       "2                 0.05999  ...          25.53           152.50      1709.0   \n",
       "3                 0.09744  ...          26.50            98.87       567.7   \n",
       "4                 0.05883  ...          16.67           152.20      1575.0   \n",
       "\n",
       "   worst smoothness  worst compactness  worst concavity  worst concave points  \\\n",
       "0            0.1622             0.6656           0.7119                0.2654   \n",
       "1            0.1238             0.1866           0.2416                0.1860   \n",
       "2            0.1444             0.4245           0.4504                0.2430   \n",
       "3            0.2098             0.8663           0.6869                0.2575   \n",
       "4            0.1374             0.2050           0.4000                0.1625   \n",
       "\n",
       "   worst symmetry  worst fractal dimension  target  \n",
       "0          0.4601                  0.11890       0  \n",
       "1          0.2750                  0.08902       0  \n",
       "2          0.3613                  0.08758       0  \n",
       "3          0.6638                  0.17300       0  \n",
       "4          0.2364                  0.07678       0  \n",
       "\n",
       "[5 rows x 31 columns]"
      ]
     },
     "execution_count": 2,
     "metadata": {},
     "output_type": "execute_result"
    }
   ],
   "source": [
    "from sklearn.datasets import load_breast_cancer\n",
    "import pandas as pd\n",
    "\n",
    "data = load_breast_cancer()\n",
    "df = pd.DataFrame(data.data, columns=data.feature_names)\n",
    "df['target'] =data.target\n",
    "df.head()"
   ]
  },
  {
   "cell_type": "code",
   "execution_count": 3,
   "id": "32cd29ff-a558-4de9-b59d-519ae55bef68",
   "metadata": {},
   "outputs": [
    {
     "data": {
      "text/plain": [
       "mean radius                0\n",
       "mean texture               0\n",
       "mean perimeter             0\n",
       "mean area                  0\n",
       "mean smoothness            0\n",
       "mean compactness           0\n",
       "mean concavity             0\n",
       "mean concave points        0\n",
       "mean symmetry              0\n",
       "mean fractal dimension     0\n",
       "radius error               0\n",
       "texture error              0\n",
       "perimeter error            0\n",
       "area error                 0\n",
       "smoothness error           0\n",
       "compactness error          0\n",
       "concavity error            0\n",
       "concave points error       0\n",
       "symmetry error             0\n",
       "fractal dimension error    0\n",
       "worst radius               0\n",
       "worst texture              0\n",
       "worst perimeter            0\n",
       "worst area                 0\n",
       "worst smoothness           0\n",
       "worst compactness          0\n",
       "worst concavity            0\n",
       "worst concave points       0\n",
       "worst symmetry             0\n",
       "worst fractal dimension    0\n",
       "target                     0\n",
       "dtype: int64"
      ]
     },
     "execution_count": 3,
     "metadata": {},
     "output_type": "execute_result"
    }
   ],
   "source": [
    "df.isna().sum()"
   ]
  },
  {
   "cell_type": "code",
   "execution_count": 4,
   "id": "6eaf0643-81fd-4c88-8e60-c882f8bed6c5",
   "metadata": {},
   "outputs": [
    {
     "data": {
      "text/plain": [
       "Index(['mean radius', 'mean texture', 'mean perimeter', 'mean area',\n",
       "       'mean smoothness', 'mean compactness', 'mean concavity',\n",
       "       'mean concave points', 'mean symmetry', 'mean fractal dimension',\n",
       "       'radius error', 'texture error', 'perimeter error', 'area error',\n",
       "       'smoothness error', 'compactness error', 'concavity error',\n",
       "       'concave points error', 'symmetry error', 'fractal dimension error',\n",
       "       'worst radius', 'worst texture', 'worst perimeter', 'worst area',\n",
       "       'worst smoothness', 'worst compactness', 'worst concavity',\n",
       "       'worst concave points', 'worst symmetry', 'worst fractal dimension',\n",
       "       'target'],\n",
       "      dtype='object')"
      ]
     },
     "execution_count": 4,
     "metadata": {},
     "output_type": "execute_result"
    }
   ],
   "source": [
    "#df = df.drop(columns=['id'])\n",
    "df.columns"
   ]
  },
  {
   "cell_type": "code",
   "execution_count": 5,
   "id": "81867bca-f729-46f6-93f0-5be87381d537",
   "metadata": {},
   "outputs": [],
   "source": [
    "# le = LabelEncoder()\n",
    "# df['diagnosis'] = le.fit_transform(df['diagnosis'])\n",
    "# df.head()"
   ]
  },
  {
   "cell_type": "code",
   "execution_count": 6,
   "id": "7004934f-7857-49f3-b87d-c8626eac5a6a",
   "metadata": {},
   "outputs": [],
   "source": [
    "x1 = df.drop(columns=['target'])\n",
    "y1= df['target']"
   ]
  },
  {
   "cell_type": "code",
   "execution_count": 7,
   "id": "29af71fa-6ee4-4d79-a169-e7125eae4da5",
   "metadata": {},
   "outputs": [],
   "source": [
    "from sklearn.ensemble import IsolationForest\n",
    "\n",
    "iso = IsolationForest(contamination=0.05, random_state=42)\n",
    "outliers = iso.fit_predict(x1.select_dtypes(include='number'))\n",
    "\n",
    "# Create filtered dataset\n",
    "x1['outlier'] = outliers\n",
    "x = x1[x1['outlier'] == 1].drop('outlier', axis=1)\n",
    "y = y1[x1['outlier'] == 1]\n"
   ]
  },
  {
   "cell_type": "code",
   "execution_count": null,
   "id": "f5005501-b905-4c90-8b92-75e50ab16503",
   "metadata": {},
   "outputs": [],
   "source": []
  },
  {
   "cell_type": "code",
   "execution_count": 9,
   "id": "4aceb6ac-26c9-460d-af95-faeb8db2d0a0",
   "metadata": {},
   "outputs": [
    {
     "data": {
      "text/plain": [
       "1    0\n",
       "2    0\n",
       "4    0\n",
       "5    0\n",
       "6    0\n",
       "Name: target, dtype: int32"
      ]
     },
     "execution_count": 9,
     "metadata": {},
     "output_type": "execute_result"
    }
   ],
   "source": [
    "y.head()"
   ]
  },
  {
   "cell_type": "code",
   "execution_count": 10,
   "id": "6100045c-16a4-450a-b88f-27259100cb4b",
   "metadata": {},
   "outputs": [],
   "source": [
    "scaler = StandardScaler()\n",
    "X= scaler.fit_transform(x)"
   ]
  },
  {
   "cell_type": "code",
   "execution_count": 11,
   "id": "66a006a2-dbc6-43ba-94cd-081ba3fb589e",
   "metadata": {},
   "outputs": [
    {
     "data": {
      "text/plain": [
       "array([[ 2.07912751, -0.33652468,  1.94312981, ...,  1.23403587,\n",
       "        -0.21235084,  0.39569338],\n",
       "       [ 1.8035559 ,  0.48532537,  1.81033338, ...,  2.15882098,\n",
       "         1.32617836,  0.30564648],\n",
       "       [ 1.99144563, -1.14656653,  2.04387194, ...,  0.85276481,\n",
       "        -0.90049947, -0.36970531],\n",
       "       ...,\n",
       "       [ 1.9413417 ,  2.13847201,  1.86528363, ...,  0.8576321 ,\n",
       "        -0.52968363, -1.0206694 ],\n",
       "       [ 0.83592376,  2.09832416,  0.81664973, ...,  0.5169218 ,\n",
       "        -1.16078367, -0.28090906],\n",
       "       [-1.93231836,  1.26230429, -1.94826359, ..., -1.78368397,\n",
       "         0.00336415, -0.76928845]])"
      ]
     },
     "execution_count": 11,
     "metadata": {},
     "output_type": "execute_result"
    }
   ],
   "source": [
    "X"
   ]
  },
  {
   "cell_type": "code",
   "execution_count": 12,
   "id": "7a224c83-7701-40ad-b258-ef0895a003a3",
   "metadata": {},
   "outputs": [],
   "source": [
    "\n",
    "\n",
    "X_train, X_test, y_train, y_test = train_test_split(X, y, test_size=0.2, random_state=42)\n"
   ]
  },
  {
   "cell_type": "code",
   "execution_count": 13,
   "id": "24825f76-19c7-47b3-82f9-c44118609d78",
   "metadata": {},
   "outputs": [
    {
     "name": "stdout",
     "output_type": "stream",
     "text": [
      "(540, 30) (432, 30) (108, 30)\n"
     ]
    }
   ],
   "source": [
    "print(X.shape,X_train.shape,X_test.shape)"
   ]
  },
  {
   "cell_type": "code",
   "execution_count": 14,
   "id": "c94fa8b1-3c70-4817-a6ab-68d0ccd81c4c",
   "metadata": {},
   "outputs": [],
   "source": [
    "classifiers = {\n",
    "    \"K-Nearest Neighbors\": KNeighborsClassifier(),\n",
    "    \"Decision Tree\": DecisionTreeClassifier(random_state=42),\n",
    "    \"Random Forest\": RandomForestClassifier(random_state=42),\n",
    "    \"Support Vector Machine\": SVC(random_state=42),\n",
    "    \"Naive Bayes\": GaussianNB()  # doesn't have random_state\n",
    "}"
   ]
  },
  {
   "cell_type": "code",
   "execution_count": 16,
   "id": "2161d5c6-4c16-4753-af98-29eff254a882",
   "metadata": {},
   "outputs": [
    {
     "name": "stdout",
     "output_type": "stream",
     "text": [
      "K-Nearest Neighbors:\n",
      "  Train Accuracy: 0.98\n",
      "  Test Accuracy: 0.94\n",
      "  Precision: 0.96\n",
      "  F1 Score: 0.95\n",
      "  Confusion Matrix:\n",
      "[[31  3]\n",
      " [ 4 70]]\n",
      "\n",
      "Decision Tree:\n",
      "  Train Accuracy: 1.00\n",
      "  Test Accuracy: 0.93\n",
      "  Precision: 0.96\n",
      "  F1 Score: 0.95\n",
      "  Confusion Matrix:\n",
      "[[31  3]\n",
      " [ 5 69]]\n",
      "\n",
      "Random Forest:\n",
      "  Train Accuracy: 1.00\n",
      "  Test Accuracy: 0.98\n",
      "  Precision: 0.99\n",
      "  F1 Score: 0.99\n",
      "  Confusion Matrix:\n",
      "[[33  1]\n",
      " [ 1 73]]\n",
      "\n",
      "Support Vector Machine:\n",
      "  Train Accuracy: 0.99\n",
      "  Test Accuracy: 0.95\n",
      "  Precision: 0.95\n",
      "  F1 Score: 0.97\n",
      "  Confusion Matrix:\n",
      "[[30  4]\n",
      " [ 1 73]]\n",
      "\n",
      "Naive Bayes:\n",
      "  Train Accuracy: 0.94\n",
      "  Test Accuracy: 0.94\n",
      "  Precision: 0.97\n",
      "  F1 Score: 0.96\n",
      "  Confusion Matrix:\n",
      "[[32  2]\n",
      " [ 4 70]]\n",
      "\n",
      "\n",
      "Best Model: Random Forest\n",
      "  Test Accuracy: 0.98\n",
      "  Precision: 0.99\n",
      "  F1 Score: 0.99\n",
      "  Confusion Matrix:\n",
      "[[33  1]\n",
      " [ 1 73]]\n"
     ]
    }
   ],
   "source": [
    "from sklearn.metrics import accuracy_score, precision_score, f1_score, confusion_matrix\n",
    "\n",
    "accuracy_results_train = {}\n",
    "accuracy_results_test = {}\n",
    "precision_results_test = {}\n",
    "f1_results_test = {}\n",
    "\n",
    "for name, model in classifiers.items():\n",
    "    model.fit(X_train, y_train)  # Train the model\n",
    "    train_predictions = model.predict(X_train)\n",
    "    test_predictions = model.predict(X_test)\n",
    "    \n",
    "    # Evaluation metrics\n",
    "    train_accuracy = accuracy_score(y_train, train_predictions)\n",
    "    test_accuracy = accuracy_score(y_test, test_predictions)\n",
    "    precision = precision_score(y_test, test_predictions)\n",
    "    f1 = f1_score(y_test, test_predictions)\n",
    "    cm = confusion_matrix(y_test, test_predictions)\n",
    "    \n",
    "    # Store results\n",
    "    accuracy_results_train[name] = train_accuracy\n",
    "    accuracy_results_test[name] = test_accuracy\n",
    "    precision_results_test[name] = precision\n",
    "    f1_results_test[name] = f1\n",
    "\n",
    "    # Display metrics\n",
    "    print(f\"{name}:\\n\"\n",
    "          f\"  Train Accuracy: {train_accuracy:.2f}\\n\"\n",
    "          f\"  Test Accuracy: {test_accuracy:.2f}\\n\"\n",
    "          f\"  Precision: {precision:.2f}\\n\"\n",
    "          f\"  F1 Score: {f1:.2f}\\n\"\n",
    "          f\"  Confusion Matrix:\\n{cm}\\n\")\n",
    "\n",
    "# Select the best model based on F1 Score\n",
    "best_model_name = max(f1_results_test, key=f1_results_test.get)\n",
    "best_model = classifiers[best_model_name]\n",
    "best_predictions = best_model.predict(X_test)\n",
    "best_cm = confusion_matrix(y_test, best_predictions)\n",
    "\n",
    "print(f\"\\nBest Model: {best_model_name}\")\n",
    "print(f\"  Test Accuracy: {accuracy_results_test[best_model_name]:.2f}\")\n",
    "print(f\"  Precision: {precision_results_test[best_model_name]:.2f}\")\n",
    "print(f\"  F1 Score: {f1_results_test[best_model_name]:.2f}\")\n",
    "print(f\"  Confusion Matrix:\\n{best_cm}\")\n"
   ]
  },
  {
   "cell_type": "code",
   "execution_count": 17,
   "id": "26558b37",
   "metadata": {},
   "outputs": [
    {
     "data": {
      "image/png": "[encoded data removed]",
      "text/plain": [
       "<Figure size 1400x500 with 3 Axes>"
      ]
     },
     "metadata": {},
     "output_type": "display_data"
    }
   ],
   "source": [
    "metrics_df = {\n",
    "    'Test Accuracy': accuracy_results_test,\n",
    "    'Precision': precision_results_test,\n",
    "    'F1 Score': f1_results_test\n",
    "}\n",
    "\n",
    "plt.figure(figsize=(14, 5))\n",
    "for idx, (metric_name, values) in enumerate(metrics_df.items()):\n",
    "    plt.subplot(1, 3, idx + 1)\n",
    "    sns.barplot(x=list(values.keys()), y=list(values.values()))\n",
    "    plt.title(metric_name)\n",
    "    plt.xticks(rotation=45)\n",
    "    plt.ylim(0, 1)\n",
    "    plt.ylabel(\"Score\")\n",
    "\n",
    "plt.tight_layout()\n",
    "plt.show()"
   ]
  },
  {
   "cell_type": "code",
   "execution_count": 18,
   "id": "d710c99e",
   "metadata": {},
   "outputs": [
    {
     "data": {
      "image/png": "[encoded data removed]",
      "text/plain": [
       "<Figure size 500x400 with 2 Axes>"
      ]
     },
     "metadata": {},
     "output_type": "display_data"
    }
   ],
   "source": [
    "plt.figure(figsize=(5, 4))\n",
    "sns.heatmap(best_cm, annot=True, fmt='d', cmap='Blues', xticklabels=[\"Benign\", \"Malignant\"], yticklabels=[\"Benign\", \"Malignant\"])\n",
    "plt.title(f'Confusion Matrix - {best_model_name}')\n",
    "plt.xlabel('Predicted')\n",
    "plt.ylabel('Actual')\n",
    "plt.show()"
   ]
  },
  {
   "cell_type": "code",
   "execution_count": 20,
   "id": "4dc4b32e-cedc-4a3d-8f69-7fe636cfa258",
   "metadata": {},
   "outputs": [],
   "source": [
    "def test_breast_cancer_model(samples, scaler, model, feature_columns):\n",
    "    for i, sample in enumerate(samples, start=1):\n",
    "        sample_df = pd.DataFrame([sample], columns=feature_columns)\n",
    "        sample_scaled = scaler.transform(sample_df)\n",
    "        prediction = model.predict(sample_scaled)\n",
    "        result = \"Malignant (1)\" if prediction[0] == 1 else \"Benign (0)\"\n",
    "        print(f\"Sample {i}: Prediction = {result}\")\n"
   ]
  },
  {
   "cell_type": "code",
   "execution_count": 24,
   "id": "231aad67-afa6-41f0-981c-9dc303d3e9cd",
   "metadata": {},
   "outputs": [
    {
     "name": "stdout",
     "output_type": "stream",
     "text": [
      "Sample 1: Actual = 1, Predicted = 1\n",
      "Sample 2: Actual = 1, Predicted = 1\n",
      "Sample 3: Actual = 1, Predicted = 1\n",
      "Sample 4: Actual = 1, Predicted = 1\n",
      "Sample 5: Actual = 1, Predicted = 1\n"
     ]
    }
   ],
   "source": [
    "# Filter some malignant cases\n",
    "malignant_samples = df[df['target'] == 1].sample(5, random_state=42).drop('target', axis=1)\n",
    "malignant_labels = [1] * len(malignant_samples)\n",
    "\n",
    "# Scale and predict\n",
    "scaled_malignant = scaler.transform(malignant_samples)\n",
    "preds = best_model.predict(scaled_malignant)\n",
    "\n",
    "for i in range(len(preds)):\n",
    "    print(f\"Sample {i+1}: Actual = {malignant_labels[i]}, Predicted = {preds[i]}\")\n"
   ]
  },
  {
   "cell_type": "code",
   "execution_count": 25,
   "id": "aec74d07-78db-467c-9fbc-bbbb2f6a7206",
   "metadata": {},
   "outputs": [
    {
     "name": "stdout",
     "output_type": "stream",
     "text": [
      "              precision    recall  f1-score   support\n",
      "\n",
      "      Benign       0.97      0.97      0.97        34\n",
      "   Malignant       0.99      0.99      0.99        74\n",
      "\n",
      "    accuracy                           0.98       108\n",
      "   macro avg       0.98      0.98      0.98       108\n",
      "weighted avg       0.98      0.98      0.98       108\n",
      "\n"
     ]
    }
   ],
   "source": [
    "from sklearn.metrics import classification_report\n",
    "\n",
    "y_pred = best_model.predict(X_test)\n",
    "print(classification_report(y_test, y_pred, target_names=[\"Benign\", \"Malignant\"]))\n"
   ]
  },
  {
   "cell_type": "code",
   "execution_count": 26,
   "id": "353c44f3",
   "metadata": {},
   "outputs": [
    {
     "name": "stdout",
     "output_type": "stream",
     "text": [
      "✅ Random Forest model and scaler saved as 'random_forest_breast_cancer_model.pkl'\n"
     ]
    }
   ],
   "source": [
    "from sklearn.ensemble import RandomForestClassifier\n",
    "import joblib\n",
    "from sklearn.preprocessing import StandardScaler\n",
    "\n",
    "# Step 1: Scale the features (reuse your scaler or create a new one)\n",
    "scaler = StandardScaler()\n",
    "X_train_scaled = scaler.fit_transform(X_train)\n",
    "X_test_scaled = scaler.transform(X_test)\n",
    "\n",
    "# Step 2: Train the Random Forest model\n",
    "rf_model = RandomForestClassifier(random_state=42)\n",
    "rf_model.fit(X_train_scaled, y_train)\n",
    "\n",
    "# Step 3: Save both scaler and model\n",
    "model_data = {\n",
    "    'scaler': scaler,\n",
    "    'model': rf_model\n",
    "}\n",
    "joblib.dump(model_data, 'random_forest_breast_cancer_model.pkl')\n",
    "print(\"✅ Random Forest model and scaler saved as 'random_forest_breast_cancer_model.pkl'\")\n"
   ]
  },
  {
   "cell_type": "code",
   "execution_count": null,
   "id": "9d58734f-28b9-40ee-b2e4-93f24c52f24c",
   "metadata": {},
   "outputs": [],
   "source": []
  },
  {
   "cell_type": "code",
   "execution_count": null,
   "id": "6265ec45-0de9-4ea1-88ed-15982e647803",
   "metadata": {},
   "outputs": [],
   "source": []
  }
 ],
 "metadata": {
  "kernelspec": {
   "display_name": "Python 3 (ipykernel)",
   "language": "python",
   "name": "python3"
  },
  "language_info": {
   "codemirror_mode": {
    "name": "ipython",
    "version": 3
   },
   "file_extension": ".py",
   "mimetype": "text/x-python",
   "name": "python",
   "nbconvert_exporter": "python",
   "pygments_lexer": "ipython3",
   "version": "3.12.7"
  }
 },
 "nbformat": 4,
 "nbformat_minor": 5
}
